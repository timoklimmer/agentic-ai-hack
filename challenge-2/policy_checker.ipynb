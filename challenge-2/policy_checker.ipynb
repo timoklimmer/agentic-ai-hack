{
  "cells": [
    {
      "cell_type": "markdown",
      "metadata": {},
      "source": [
        "# Policy Checker with Azure AI Search\n",
        "\n",
        "This notebook demonstrates how to use agent operations with the Azure AI Search tool from the Azure Agents service using a synchronous client."
      ]
    },
    {
      "cell_type": "markdown",
      "metadata": {},
      "source": [
        "## Setup and Imports"
      ]
    },
    {
      "cell_type": "code",
      "execution_count": 1,
      "metadata": {},
      "outputs": [
        {
          "name": "stdout",
          "output_type": "stream",
          "text": [
            "✅ Libraries imported and environment variables loaded\n"
          ]
        }
      ],
      "source": [
        "# Import necessary libraries and modules\n",
        "import os\n",
        "from dotenv import load_dotenv\n",
        "from azure.identity import DefaultAzureCredential\n",
        "from azure.ai.projects import AIProjectClient\n",
        "from azure.ai.agents.models import AzureAISearchQueryType, AzureAISearchTool, ListSortOrder, MessageRole\n",
        "\n",
        "# Load environment variables from .env file\n",
        "load_dotenv(override=True)  # This forces a reload of the .env file\n",
        "\n",
        "print(\"✅ Libraries imported and environment variables loaded\")"
      ]
    },
    {
      "cell_type": "markdown",
      "metadata": {},
      "source": [
        "## Configuration"
      ]
    },
    {
      "cell_type": "code",
      "execution_count": null,
      "metadata": {},
      "outputs": [],
      "source": [
        "# Retrieve endpoint and model deployment name from environment variables\n",
        "# Ensure the PROJECT_ENDPOINT environment variable is set\n",
        "project_endpoint = os.environ.get(\"AI_FOUNDRY_PROJECT_ENDPOINT\")\n",
        "# Ensure the MODEL_DEPLOYMENT_NAME environment variable is set\n",
        "model_deployment_name = \"gpt-4.1-mini\"\n",
        "# Ensure the AZURE_AI_CONNECTION_ID environment variable is set\n",
        "sc_connection_id = os.environ.get(\"AZURE_AI_CONNECTION_ID\")\n",
        "\n",
        "project_client = AIProjectClient(\n",
        "    endpoint=project_endpoint,\n",
        "    # Use Azure Default Credential for authentication\n",
        "    credential=DefaultAzureCredential(\n",
        "        exclude_interactive_browser_credential=False),\n",
        ")\n",
        "\n",
        "with project_client:\n",
        "    # Initialize the Azure AI Search tool with the required parameters\n",
        "    ai_search = AzureAISearchTool(\n",
        "        # Ensure the AZURE_AI_CONNECTION_ID environment variable is set\n",
        "        index_connection_id=sc_connection_id,\n",
        "        index_name=\"insurance-documents-index\",  # Name of the search index\n",
        "        # Query type (e.g., SIMPLE, FULL)\n",
        "        query_type=AzureAISearchQueryType.SIMPLE,\n",
        "        top_k=3,  # Number of top results to retrieve\n",
        "        filter=\"\",  # Optional filter for search results\n",
        "    )\n",
        "\n",
        "    # Create an agent with the specified model, name, instructions, and tools\n",
        "    agent = project_client.agents.create_agent(\n",
        "        model=model_deployment_name,  # Model deployment name\n",
        "        name=\"policy-checker\",  # Name of the agent\n",
        "        instructions=\"\"\"\"\n",
        "        You are an expert Insurance Policy Checker Agent specialized in analyzing auto insurance policies and validating claim coverage. Your primary responsibilities include:\n",
        "\n",
        "        **Core Functions:**\n",
        "        - Analyze insurance policy documents to determine coverage details\n",
        "        - Validate if specific claims are covered under policy terms\n",
        "        - Explain policy limits, deductibles, and exclusions\n",
        "        - Identify coverage gaps or restrictions\n",
        "        - Provide clear explanations of policy benefits\n",
        "\n",
        "        **Policy Types You Handle:**\n",
        "        - Commercial Auto Policies\n",
        "        - Comprehensive Auto Policies\n",
        "        - High Value Vehicle Policies\n",
        "        - Liability Only Policies\n",
        "        - Motorcycle Policies\n",
        "\n",
        "        **Analysis Guidelines:**\n",
        "        1. Always reference specific policy sections when providing coverage determinations\n",
        "        2. Clearly state coverage limits, deductibles, and any applicable restrictions\n",
        "        3. Identify any exclusions that may apply to the claim\n",
        "        4. Be precise about effective dates and policy periods\n",
        "        5. Flag any discrepancies between claim details and policy terms\n",
        "\n",
        "        **Response Format:**\n",
        "        - Start with a clear coverage determination (COVERED/NOT COVERED/PARTIAL COVERAGE)\n",
        "        - Provide the specific policy section reference\n",
        "        - Explain coverage limits and deductibles\n",
        "        - List any relevant exclusions or conditions\n",
        "        - Suggest next steps if coverage issues exist\n",
        "        - Everything in a clear, concise manner in one paragraph.\n",
        "\n",
        "        **Tone:** Professional, accurate, and helpful. Always be thorough in your analysis while remaining clear and concise.\n",
        "\n",
        "        When you cannot find specific information in the policy documents, clearly state what information is missing and what additional documentation would be needed.\n",
        "        \"\"\",  # Instructions for the agent\n",
        "        tools=ai_search.definitions,  # Tools available to the agent\n",
        "        tool_resources=ai_search.resources,  # Resources for the tools\n",
        "    )\n",
        "    print(f\"Created agent, ID: {agent.id}\")\n",
        "\n",
        "    # Create a thread for communication with the agent\n",
        "    thread = project_client.agents.threads.create()\n",
        "    print(f\"Created thread, ID: {thread.id}\")\n",
        "\n",
        "    # Send a message to the thread\n",
        "    message = project_client.agents.messages.create(\n",
        "        thread_id=thread.id,  # ID of the thread\n",
        "        role=MessageRole.USER,  # Role of the message sender (e.g., user)\n",
        "        content=\"What motorcycle coverage options are available?\",  # Message content\n",
        "    )\n",
        "    print(f\"Created message, ID: {message['id']}\")\n",
        "\n",
        "    # Create and process an agent run in the thread using the tools\n",
        "    run = project_client.agents.runs.create_and_process(\n",
        "        thread_id=thread.id, agent_id=agent.id)\n",
        "    print(f\"Run finished with status: {run.status}\")\n",
        "\n",
        "    if run.status == \"failed\":\n",
        "        # Log the error if the run fails\n",
        "        print(f\"Run failed: {run.last_error}\")\n",
        "\n",
        "    # Fetch and log all messages from the thread\n",
        "    messages = project_client.agents.messages.list(\n",
        "        thread_id=thread.id, order=ListSortOrder.ASCENDING)\n",
        "    for message in messages:\n",
        "        # Only show the agent's response, not the user's question\n",
        "        if message.role == MessageRole.AGENT:\n",
        "            if message.content and len(message.content) > 0:\n",
        "                content_item = message.content[0]\n",
        "                if content_item.get('type') == 'text' and 'text' in content_item:\n",
        "                    agent_response = content_item['text']['value']\n",
        "                    print(agent_response)\n",
        "                    break  # Only show the first agent response"
      ]
    },
    {
      "cell_type": "markdown",
      "metadata": {},
      "source": [
        "Amazing! So what you have done so far is creating an agent, that consults the Azure AI Search Index that searches on your policies databases. Your query has made it such as it replies to your query with a text based solution. Let's print it out!"
      ]
    }
  ],
  "metadata": {
    "kernelspec": {
      "display_name": "Python 3",
      "language": "python",
      "name": "python3"
    },
    "language_info": {
      "codemirror_mode": {
        "name": "ipython",
        "version": 3
      },
      "file_extension": ".py",
      "mimetype": "text/x-python",
      "name": "python",
      "nbconvert_exporter": "python",
      "pygments_lexer": "ipython3",
      "version": "3.11.13"
    }
  },
  "nbformat": 4,
  "nbformat_minor": 4
}
